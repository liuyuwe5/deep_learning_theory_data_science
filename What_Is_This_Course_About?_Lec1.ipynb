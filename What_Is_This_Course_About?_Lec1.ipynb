{
  "nbformat": 4,
  "nbformat_minor": 0,
  "metadata": {
    "colab": {
      "provenance": [],
      "authorship_tag": "ABX9TyPA94YIhn++sXe6im9Bffi7",
      "include_colab_link": true
    },
    "kernelspec": {
      "name": "python3",
      "display_name": "Python 3"
    },
    "language_info": {
      "name": "python"
    }
  },
  "cells": [
    {
      "cell_type": "markdown",
      "metadata": {
        "id": "view-in-github",
        "colab_type": "text"
      },
      "source": [
        "<a href=\"https://colab.research.google.com/github/oolonglilfox/deep_learning_theory_data_science/blob/main/What_Is_This_Course_About%3F_Lec1.ipynb\" target=\"_parent\"><img src=\"https://colab.research.google.com/assets/colab-badge.svg\" alt=\"Open In Colab\"/></a>"
      ]
    },
    {
      "cell_type": "markdown",
      "source": [
        "# Basic Info\n",
        "**Professor:** [Vardan Papyan](https://https://sites.google.com/view/vardan-papyan/home)\n",
        "\n",
        "**Course Website:** [Deep Learning: Theory & Data Science](https://sites.google.com/view/mat1510)"
      ],
      "metadata": {
        "id": "2XCccbRv0DlG"
      }
    },
    {
      "cell_type": "markdown",
      "source": [
        "# Topics Covered\n",
        "- Very Brief Introduction to Deep Learning Mysteries in Deep Learning\n",
        "- Double Descent\n",
        "- Adversarial Examples\n",
        "- Out of Distribution Generalization Information Bottleneck\n",
        "- Neural Collapse\n",
        "- Neural Tangent Kernel\n",
        "- Spectral Analysis Two-Layer Infinite Width Deep Linear Networks - - Implicit Biases\n",
        "- Pruning"
      ],
      "metadata": {
        "id": "GGPRt6P2tAi-"
      }
    },
    {
      "cell_type": "markdown",
      "source": [
        "# Deep Learning Unexpected Success in ...\n",
        "- Image Classification\n",
        "- Segmentation\n",
        "- Playing Go\n",
        "- Predicting Protein Folding\n",
        "- Questions Answering\n",
        "- Text Generation\n",
        "- Generating Images from Text"
      ],
      "metadata": {
        "id": "zTjuioRFtij5"
      }
    }
  ]
}